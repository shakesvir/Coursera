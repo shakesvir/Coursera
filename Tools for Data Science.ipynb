{
 "cells": [
  {
   "cell_type": "markdown",
   "id": "30f2d770",
   "metadata": {},
   "source": [
    "# My Jupyter Notebook"
   ]
  },
  {
   "cell_type": "markdown",
   "id": "c3c358ac",
   "metadata": {},
   "source": [
    "<b> Roman Svirid </b>"
   ]
  },
  {
   "cell_type": "markdown",
   "id": "e9034ecf",
   "metadata": {},
   "source": [
    "<i>100% human</i>"
   ]
  },
  {
   "cell_type": "markdown",
   "id": "4187456e",
   "metadata": {},
   "source": [
    "I am interested in Data Science because I love to gain insights from data"
   ]
  },
  {
   "cell_type": "markdown",
   "id": "a894498c",
   "metadata": {},
   "source": [
    "### The following code draws a triange"
   ]
  },
  {
   "cell_type": "code",
   "execution_count": 9,
   "id": "a982ed4b",
   "metadata": {},
   "outputs": [
    {
     "name": "stdout",
     "output_type": "stream",
     "text": [
      "*\n",
      "**\n",
      "***\n",
      "**\n",
      "*\n"
     ]
    }
   ],
   "source": [
    "n = 5\n",
    "for i in range(n):\n",
    "    k = (n // 2 + 1) - abs(n // 2 - i)\n",
    "    for _ in range(k):\n",
    "        print('*', end='')\n",
    "    print()"
   ]
  },
  {
   "cell_type": "markdown",
   "id": "f8dfd308",
   "metadata": {},
   "source": [
    "* one\n",
    "* two\n",
    "* three\n",
    "* four\n",
    "* five"
   ]
  },
  {
   "attachments": {},
   "cell_type": "markdown",
   "id": "a63a6b00",
   "metadata": {},
   "source": [
    "![jupyter](https://st.overclockers.ru/legacy/blog/356180/157931_O.jpeg)"
   ]
  },
  {
   "cell_type": "markdown",
   "id": "6f9aba67",
   "metadata": {},
   "source": [
    "> <b><i>Lorem ipsum dolor sit amet, consectetur adipisicing elit. Consequuntur eius in labore quidem, sequi suscipit!"
   ]
  },
  {
   "cell_type": "code",
   "execution_count": null,
   "id": "4ca537ae",
   "metadata": {},
   "outputs": [],
   "source": []
  }
 ],
 "metadata": {
  "kernelspec": {
   "display_name": "Python 3 (ipykernel)",
   "language": "python",
   "name": "python3"
  },
  "language_info": {
   "codemirror_mode": {
    "name": "ipython",
    "version": 3
   },
   "file_extension": ".py",
   "mimetype": "text/x-python",
   "name": "python",
   "nbconvert_exporter": "python",
   "pygments_lexer": "ipython3",
   "version": "3.9.7"
  }
 },
 "nbformat": 4,
 "nbformat_minor": 5
}
