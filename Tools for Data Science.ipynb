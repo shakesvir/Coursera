{
 "cells": [
  {
   "cell_type": "markdown",
   "id": "1cc7fe7d",
   "metadata": {},
   "source": [
    "# My Jupyter Notebook"
   ]
  },
  {
   "cell_type": "markdown",
   "id": "84f015ec",
   "metadata": {},
   "source": [
    "<b> Roman Svirid </b>"
   ]
  },
  {
   "cell_type": "markdown",
   "id": "ea270225",
   "metadata": {},
   "source": [
    "<i>100% human</i>"
   ]
  },
  {
   "cell_type": "markdown",
   "id": "2fca51b9",
   "metadata": {},
   "source": [
    "I am interested in Data Science because I love to gain insights from data"
   ]
  },
  {
   "cell_type": "markdown",
   "id": "3cc349d1",
   "metadata": {},
   "source": [
    "### The following code draws a triange"
   ]
  },
  {
   "cell_type": "code",
   "execution_count": 1,
   "id": "d20de60c",
   "metadata": {},
   "outputs": [
    {
     "name": "stdout",
     "output_type": "stream",
     "text": [
      "*\n",
      "**\n",
      "***\n",
      "**\n",
      "*\n"
     ]
    }
   ],
   "source": [
    "n = 5\n",
    "for i in range(n):\n",
    "    k = (n // 2 + 1) - abs(n // 2 - i)\n",
    "    for _ in range(k):\n",
    "        print('*', end='')\n",
    "    print()"
   ]
  },
  {
   "cell_type": "markdown",
   "id": "e4b1522a",
   "metadata": {},
   "source": [
    "* one\n",
    "* two\n",
    "* three\n",
    "* four\n",
    "* five"
   ]
  },
  {
   "attachments": {},
   "cell_type": "markdown",
   "id": "33157b6b",
   "metadata": {},
   "source": [
    "![jupyter](https://st.overclockers.ru/legacy/blog/356180/157931_O.jpeg)"
   ]
  },
  {
   "cell_type": "markdown",
   "id": "6a7d665e",
   "metadata": {},
   "source": [
    "> <b><i>Lorem ipsum dolor sit amet, consectetur adipisicing elit. Consequuntur eius in labore quidem, sequi suscipit!"
   ]
  }
 ],
 "metadata": {
  "kernelspec": {
   "display_name": "Python 3 (ipykernel)",
   "language": "python",
   "name": "python3"
  },
  "language_info": {
   "codemirror_mode": {
    "name": "ipython",
    "version": 3
   },
   "file_extension": ".py",
   "mimetype": "text/x-python",
   "name": "python",
   "nbconvert_exporter": "python",
   "pygments_lexer": "ipython3",
   "version": "3.9.7"
  }
 },
 "nbformat": 4,
 "nbformat_minor": 5
}
